{
 "cells": [
  {
   "cell_type": "code",
   "execution_count": 1,
   "id": "protective-complaint",
   "metadata": {},
   "outputs": [],
   "source": [
    "import pandas as pd\n",
    "import numpy as np\n",
    "\n",
    "data = pd.read_csv('SuicideAndDepression_Detection.csv')"
   ]
  },
  {
   "cell_type": "code",
   "execution_count": 2,
   "id": "sporting-maldives",
   "metadata": {},
   "outputs": [
    {
     "name": "stdout",
     "output_type": "stream",
     "text": [
      "                                                text         class\n",
      "0  Does life actually work for most / non-depress...    depression\n",
      "1  I found my friend's bodyIt was almost nine yea...    depression\n",
      "2  Ex Wife Threatening SuicideRecently I left my ...  SuicideWatch\n",
      "3  Am I weird I don't get affected by compliments...     teenagers\n",
      "4  Finally 2020 is almost over... So I can never ...     teenagers\n"
     ]
    }
   ],
   "source": [
    "print(data.head())"
   ]
  },
  {
   "cell_type": "code",
   "execution_count": 3,
   "id": "valuable-cream",
   "metadata": {},
   "outputs": [
    {
     "data": {
      "text/plain": [
       "text      2\n",
       "class    13\n",
       "dtype: int64"
      ]
     },
     "execution_count": 3,
     "metadata": {},
     "output_type": "execute_result"
    }
   ],
   "source": [
    "data.isnull().sum()"
   ]
  },
  {
   "cell_type": "code",
   "execution_count": 4,
   "id": "prospective-jersey",
   "metadata": {},
   "outputs": [
    {
     "name": "stdout",
     "output_type": "stream",
     "text": [
      "<class 'pandas.core.frame.DataFrame'>\n",
      "Int64Index: 348109 entries, 0 to 348123\n",
      "Data columns (total 2 columns):\n",
      " #   Column  Non-Null Count   Dtype \n",
      "---  ------  --------------   ----- \n",
      " 0   text    348109 non-null  object\n",
      " 1   class   348109 non-null  object\n",
      "dtypes: object(2)\n",
      "memory usage: 8.0+ MB\n"
     ]
    }
   ],
   "source": [
    "data.dropna(axis = 0, how ='any', inplace = True)\n",
    "data.dropna(axis = 1, how ='any', inplace = True)\n",
    "\n",
    "data.info()"
   ]
  },
  {
   "cell_type": "code",
   "execution_count": 5,
   "id": "blind-damages",
   "metadata": {},
   "outputs": [],
   "source": [
    "text = data['text']\n",
    "labels = data['class']"
   ]
  },
  {
   "cell_type": "code",
   "execution_count": 6,
   "id": "supported-party",
   "metadata": {},
   "outputs": [
    {
     "name": "stdout",
     "output_type": "stream",
     "text": [
      "278487\n",
      "69622\n"
     ]
    }
   ],
   "source": [
    "from sklearn.model_selection import train_test_split\n",
    "\n",
    "train_data, test_data, train_labels, test_labels = train_test_split(text, labels, test_size=0.2, random_state=42)\n",
    "\n",
    "print(len(train_data))\n",
    "print(len(test_data))"
   ]
  },
  {
   "cell_type": "code",
   "execution_count": 7,
   "id": "intense-contents",
   "metadata": {},
   "outputs": [
    {
     "name": "stdout",
     "output_type": "stream",
     "text": [
      "Am I weird I don't get affected by compliments if it's coming from someone I know irl but I feel really good when internet strangers do it\n",
      "  (0, 54543)\t1\n",
      "  (0, 61528)\t1\n",
      "  (0, 70788)\t1\n",
      "  (0, 80764)\t1\n",
      "  (0, 119158)\t1\n",
      "  (0, 148389)\t1\n",
      "  (0, 163282)\t1\n",
      "  (0, 164582)\t1\n",
      "  (0, 182015)\t1\n"
     ]
    }
   ],
   "source": [
    "from sklearn.feature_extraction.text import CountVectorizer\n",
    "\n",
    "counter = CountVectorizer() \n",
    "counter.fit(train_data.astype('U').values)\n",
    "train_counts = counter.transform(train_data.astype('U').values)\n",
    "test_counts = counter.transform(test_data.astype('U').values)\n",
    "\n",
    "print(train_data[3])\n",
    "print(train_counts[3])"
   ]
  },
  {
   "cell_type": "code",
   "execution_count": 21,
   "id": "absent-country",
   "metadata": {},
   "outputs": [],
   "source": [
    "from sklearn.naive_bayes import MultinomialNB\n",
    "\n",
    "classifier = MultinomialNB()\n",
    "classifier.fit(train_counts, train_labels)\n",
    "predictions = classifier.predict(test_counts)"
   ]
  },
  {
   "cell_type": "code",
   "execution_count": 22,
   "id": "controlled-iceland",
   "metadata": {},
   "outputs": [
    {
     "name": "stdout",
     "output_type": "stream",
     "text": [
      "0.7665536755623222\n"
     ]
    }
   ],
   "source": [
    "from sklearn.metrics import accuracy_score\n",
    "\n",
    "print(accuracy_score(test_labels, predictions))"
   ]
  },
  {
   "cell_type": "code",
   "execution_count": 16,
   "id": "artistic-metro",
   "metadata": {},
   "outputs": [
    {
     "name": "stdout",
     "output_type": "stream",
     "text": [
      "['teenagers']\n"
     ]
    }
   ],
   "source": [
    "sentence = \"Nobody loves me\"\n",
    "sentence_counts = counter.transform([sentence])\n",
    "print(classifier.predict(sentence_counts))"
   ]
  }
 ],
 "metadata": {
  "kernelspec": {
   "display_name": "Python 3",
   "language": "python",
   "name": "python3"
  },
  "language_info": {
   "codemirror_mode": {
    "name": "ipython",
    "version": 3
   },
   "file_extension": ".py",
   "mimetype": "text/x-python",
   "name": "python",
   "nbconvert_exporter": "python",
   "pygments_lexer": "ipython3",
   "version": "3.8.6"
  }
 },
 "nbformat": 4,
 "nbformat_minor": 5
}
